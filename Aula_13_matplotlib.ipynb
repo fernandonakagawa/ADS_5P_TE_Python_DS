{
  "nbformat": 4,
  "nbformat_minor": 0,
  "metadata": {
    "colab": {
      "name": "Aula_13_matplotlib.ipynb",
      "provenance": [],
      "collapsed_sections": [],
      "authorship_tag": "ABX9TyOKKi9/ckoijeZ0CLH3VoH9",
      "include_colab_link": true
    },
    "kernelspec": {
      "name": "python3",
      "display_name": "Python 3"
    },
    "language_info": {
      "name": "python"
    }
  },
  "cells": [
    {
      "cell_type": "markdown",
      "metadata": {
        "id": "view-in-github",
        "colab_type": "text"
      },
      "source": [
        "<a href=\"https://colab.research.google.com/github/fernandonakagawa/ADS_5P_TE_Python_DS/blob/main/Aula_13_matplotlib.ipynb\" target=\"_parent\"><img src=\"https://colab.research.google.com/assets/colab-badge.svg\" alt=\"Open In Colab\"/></a>"
      ]
    },
    {
      "cell_type": "markdown",
      "source": [
        "# Exercícios da Aula 12 - Numpy"
      ],
      "metadata": {
        "id": "7rdFt5O4J1nC"
      }
    },
    {
      "cell_type": "code",
      "execution_count": 32,
      "metadata": {
        "colab": {
          "base_uri": "https://localhost:8080/"
        },
        "id": "6Myg8nVO7ZA1",
        "outputId": "b39d424e-f065-45e3-c46c-2fede0e019e1"
      },
      "outputs": [
        {
          "output_type": "execute_result",
          "data": {
            "text/plain": [
              "array([0.0e+000, 4.9e-324, 9.9e-324, 1.5e-323, 2.0e-323, 2.5e-323,\n",
              "       3.0e-323, 3.5e-323, 4.0e-323, 4.4e-323])"
            ]
          },
          "metadata": {},
          "execution_count": 32
        }
      ],
      "source": [
        "# Crie um vetor nulo de tamanho 10\n",
        "\n",
        "import numpy as np\n",
        "\n",
        "array = np.empty(10)\n",
        "\n",
        "array\n"
      ]
    },
    {
      "cell_type": "code",
      "source": [
        "# Como encontrar o tamanho da memória de qualquer matriz\n",
        "\n",
        "print(array.size * array.itemsize)\n",
        "\n"
      ],
      "metadata": {
        "colab": {
          "base_uri": "https://localhost:8080/"
        },
        "id": "_hbEoh5qKDV9",
        "outputId": "6a8affbc-1559-4fee-d2f4-31004fe8b95f"
      },
      "execution_count": 33,
      "outputs": [
        {
          "output_type": "stream",
          "name": "stdout",
          "text": [
            "80\n"
          ]
        }
      ]
    },
    {
      "cell_type": "code",
      "source": [
        "# Crie um vetor nulo de tamanho 10, mas o quinto valor, que é 1\n",
        "\n",
        "array[4] = 1\n",
        "array\n"
      ],
      "metadata": {
        "colab": {
          "base_uri": "https://localhost:8080/"
        },
        "id": "lImhuyTRKDY-",
        "outputId": "52ac533e-cd05-4412-f090-38f9238c1f57"
      },
      "execution_count": 6,
      "outputs": [
        {
          "output_type": "execute_result",
          "data": {
            "text/plain": [
              "array([2.29577839e-316, 3.60739284e-313, 1.38338381e-322, 2.29578472e-316,\n",
              "       1.00000000e+000, 0.00000000e+000, 4.94065646e-323, 0.00000000e+000,\n",
              "       0.00000000e+000, 0.00000000e+000])"
            ]
          },
          "metadata": {},
          "execution_count": 6
        }
      ]
    },
    {
      "cell_type": "code",
      "source": [
        "# Crie um vetor com valores que variam de 10 a 49\n",
        "\n",
        "array = np.random.randint(10, 50, size=10)\n",
        "print(array)\n",
        "\n"
      ],
      "metadata": {
        "colab": {
          "base_uri": "https://localhost:8080/"
        },
        "id": "CQby33WAKDbt",
        "outputId": "7cbbed38-269b-4fbc-847c-360379abaf8d"
      },
      "execution_count": 7,
      "outputs": [
        {
          "output_type": "stream",
          "name": "stdout",
          "text": [
            "[24 25 30 26 31 37 16 26 14 39]\n"
          ]
        }
      ]
    },
    {
      "cell_type": "code",
      "source": [
        "# Inverter um vetor (o primeiro elemento se torna o último)\n",
        "\n",
        "array = array[::-1]\n",
        "print(array)\n",
        "\n",
        "\n"
      ],
      "metadata": {
        "colab": {
          "base_uri": "https://localhost:8080/"
        },
        "id": "4Hd2O0bnKDe1",
        "outputId": "2b7a7a18-c3bb-4e8c-8fb4-895a88c4dde6"
      },
      "execution_count": 8,
      "outputs": [
        {
          "output_type": "stream",
          "name": "stdout",
          "text": [
            "[39 14 26 16 37 31 26 30 25 24]\n"
          ]
        }
      ]
    },
    {
      "cell_type": "code",
      "source": [
        "# Crie uma matriz 3x3 com valores que variam de 0 a 8\n",
        "\n",
        "array = np.random.randint(0, 9, size=(3, 3))\n",
        "print(array)\n",
        "\n"
      ],
      "metadata": {
        "colab": {
          "base_uri": "https://localhost:8080/"
        },
        "id": "Ohz8o1V-KDht",
        "outputId": "5fd7e458-734d-4948-cbe1-cc8526ac71e2"
      },
      "execution_count": 9,
      "outputs": [
        {
          "output_type": "stream",
          "name": "stdout",
          "text": [
            "[[3 5 6]\n",
            " [1 0 4]\n",
            " [6 5 4]]\n"
          ]
        }
      ]
    },
    {
      "cell_type": "code",
      "source": [
        "# Crie uma matriz de identidade 3x3\n",
        "\n",
        "array = np.eye(3)\n",
        "print(array)\n",
        "\n"
      ],
      "metadata": {
        "colab": {
          "base_uri": "https://localhost:8080/"
        },
        "id": "CVT8JdfeKDkl",
        "outputId": "9a989fa4-0745-42d7-a7ee-872ebcbcdce0"
      },
      "execution_count": 10,
      "outputs": [
        {
          "output_type": "stream",
          "name": "stdout",
          "text": [
            "[[1. 0. 0.]\n",
            " [0. 1. 0.]\n",
            " [0. 0. 1.]]\n"
          ]
        }
      ]
    },
    {
      "cell_type": "code",
      "source": [
        "# Crie uma matriz 3x3x3 com valores aleatórios\n",
        "\n",
        "array = np.random.random(size=(3, 3, 3))\n",
        "print(array)\n",
        "\n"
      ],
      "metadata": {
        "colab": {
          "base_uri": "https://localhost:8080/"
        },
        "id": "pEQ-NH0bKDnm",
        "outputId": "b2d893b9-7be4-49d4-e0fb-7eb7b39af25e"
      },
      "execution_count": 11,
      "outputs": [
        {
          "output_type": "stream",
          "name": "stdout",
          "text": [
            "[[[0.62084338 0.94612894 0.09613585]\n",
            "  [0.85672552 0.56570734 0.80733547]\n",
            "  [0.8568818  0.60575732 0.49338915]]\n",
            "\n",
            " [[0.87275849 0.46639701 0.87387316]\n",
            "  [0.16727728 0.05900087 0.42930557]\n",
            "  [0.42714276 0.56585516 0.83955207]]\n",
            "\n",
            " [[0.93202688 0.00499754 0.20213342]\n",
            "  [0.02954423 0.94856071 0.91089347]\n",
            "  [0.20124334 0.88307681 0.2914662 ]]]\n"
          ]
        }
      ]
    },
    {
      "cell_type": "code",
      "source": [
        "# Crie uma matriz 10x10 com valores aleatórios e encontre os valores mínimo e máximo\n",
        "\n",
        "array = np.random.random(size=(10, 10))\n",
        "print(array, 'max', array.max(), 'min', array.min())\n",
        "\n"
      ],
      "metadata": {
        "colab": {
          "base_uri": "https://localhost:8080/"
        },
        "id": "k3fviYJBKDqu",
        "outputId": "f22c64d9-4980-422e-d549-491df11f844a"
      },
      "execution_count": 12,
      "outputs": [
        {
          "output_type": "stream",
          "name": "stdout",
          "text": [
            "[[0.75276803 0.9522984  0.64637027 0.27076685 0.85318554 0.85186636\n",
            "  0.8134112  0.61618249 0.43702087 0.43273397]\n",
            " [0.65505878 0.22177113 0.96812694 0.62631056 0.32058249 0.04281359\n",
            "  0.34062486 0.54248252 0.45787988 0.85026139]\n",
            " [0.47609547 0.74660921 0.95909815 0.07345205 0.92206337 0.43046731\n",
            "  0.76429407 0.09906881 0.77933621 0.76156029]\n",
            " [0.57671853 0.77807565 0.36527424 0.2160459  0.83591074 0.41904351\n",
            "  0.60014919 0.31301893 0.85852487 0.54708108]\n",
            " [0.00434515 0.17062379 0.79976632 0.84991072 0.97278842 0.57157117\n",
            "  0.20782083 0.1380483  0.45442283 0.74947029]\n",
            " [0.72700168 0.18577108 0.68941071 0.48429602 0.31701013 0.21874623\n",
            "  0.65516606 0.8823431  0.42607188 0.71462081]\n",
            " [0.76928564 0.42260341 0.83560083 0.7897768  0.2698188  0.87200417\n",
            "  0.23784838 0.79398195 0.87618123 0.93900572]\n",
            " [0.44254407 0.74807763 0.591507   0.08463197 0.81283492 0.75473806\n",
            "  0.25990276 0.13046411 0.40936461 0.12090729]\n",
            " [0.06189488 0.73275198 0.76840231 0.45449668 0.36720895 0.4892633\n",
            "  0.19112748 0.27261553 0.45232689 0.03834451]\n",
            " [0.35569585 0.63279274 0.93336316 0.43172798 0.40596256 0.46317348\n",
            "  0.85178028 0.47197475 0.57919349 0.52842441]] max 0.9727884189540549 min 0.0043451486893532065\n"
          ]
        }
      ]
    },
    {
      "cell_type": "code",
      "source": [
        "# Crie um vetor aleatório de tamanho 30 e encontre o valor médio\n",
        "\n",
        "array = np.random.random(size=(30))\n",
        "print(array, 'mean', array.mean())\n",
        "\n"
      ],
      "metadata": {
        "colab": {
          "base_uri": "https://localhost:8080/"
        },
        "id": "O8NY-2UaKDto",
        "outputId": "584bef49-4db8-4a20-aa0f-15c8b10892d1"
      },
      "execution_count": 41,
      "outputs": [
        {
          "output_type": "stream",
          "name": "stdout",
          "text": [
            "[0.17847988 0.95739785 0.20775209 0.03301581 0.47780385 0.62810336\n",
            " 0.15726872 0.9641763  0.85606079 0.50699553 0.8750472  0.42917424\n",
            " 0.9850196  0.75240598 0.18058624 0.89233106 0.62557372 0.60866838\n",
            " 0.12617652 0.76051127 0.060032   0.70252164 0.97908117 0.58006017\n",
            " 0.63125646 0.8170527  0.02343705 0.20797844 0.81383159 0.19851574] mean 0.540543845176566\n"
          ]
        }
      ]
    },
    {
      "cell_type": "code",
      "source": [
        "# Crie uma matriz 2D com 1 na borda e 0 dentro\n",
        "\n",
        "array = np.zeros((10, 10))\n",
        "array[0, :] = 1\n",
        "array[-1, :] = 1\n",
        "array[:, 0] = 1\n",
        "array[:, -1] = 1\n",
        "print(array)\n",
        "\n",
        "\n"
      ],
      "metadata": {
        "colab": {
          "base_uri": "https://localhost:8080/"
        },
        "id": "2h7J1QnuKDxT",
        "outputId": "3ea9e411-7393-44e6-c8ff-39af2265114e"
      },
      "execution_count": 39,
      "outputs": [
        {
          "output_type": "stream",
          "name": "stdout",
          "text": [
            "[[1. 1. 1. 1. 1. 1. 1. 1. 1. 1.]\n",
            " [1. 0. 0. 0. 0. 0. 0. 0. 0. 1.]\n",
            " [1. 0. 0. 0. 0. 0. 0. 0. 0. 1.]\n",
            " [1. 0. 0. 0. 0. 0. 0. 0. 0. 1.]\n",
            " [1. 0. 0. 0. 0. 0. 0. 0. 0. 1.]\n",
            " [1. 0. 0. 0. 0. 0. 0. 0. 0. 1.]\n",
            " [1. 0. 0. 0. 0. 0. 0. 0. 0. 1.]\n",
            " [1. 0. 0. 0. 0. 0. 0. 0. 0. 1.]\n",
            " [1. 0. 0. 0. 0. 0. 0. 0. 0. 1.]\n",
            " [1. 1. 1. 1. 1. 1. 1. 1. 1. 1.]]\n"
          ]
        }
      ]
    },
    {
      "cell_type": "code",
      "source": [
        "# Crie uma matriz 5x5 com valores 1,2,3,4 logo abaixo da diagonal\n",
        "\n",
        "array = np.eye(5)\n",
        "for i in range(4):\n",
        "    array[i + 1, i] = i + 1\n",
        "print(array)\n",
        "\n",
        "\n"
      ],
      "metadata": {
        "colab": {
          "base_uri": "https://localhost:8080/"
        },
        "id": "MEhIqRJmKD31",
        "outputId": "c56a772d-086d-4b2f-bb26-f2afb18e1230"
      },
      "execution_count": 16,
      "outputs": [
        {
          "output_type": "stream",
          "name": "stdout",
          "text": [
            "[[1. 0. 0. 0. 0.]\n",
            " [1. 1. 0. 0. 0.]\n",
            " [0. 2. 1. 0. 0.]\n",
            " [0. 0. 3. 1. 0.]\n",
            " [0. 0. 0. 4. 1.]]\n"
          ]
        }
      ]
    },
    {
      "cell_type": "code",
      "source": [
        "# Crie uma matriz estruturada representando uma posição (x, y) e uma cor (r, g, b)\n",
        "\n",
        "array = np.random.randint(0, 256, size=(8, 10, 3))\n",
        "print(array)\n",
        "\n"
      ],
      "metadata": {
        "colab": {
          "base_uri": "https://localhost:8080/"
        },
        "id": "QP_YHHZFKD6-",
        "outputId": "bb4ac430-7c4d-40ae-887d-9f4138435da2"
      },
      "execution_count": 17,
      "outputs": [
        {
          "output_type": "stream",
          "name": "stdout",
          "text": [
            "[[[ 66 179 108]\n",
            "  [ 43 101 106]\n",
            "  [ 38 166  80]\n",
            "  [ 57 245 203]\n",
            "  [210  64 144]\n",
            "  [ 16  78  41]\n",
            "  [ 30  77 229]\n",
            "  [184  80 115]\n",
            "  [ 44 218  48]\n",
            "  [ 29 192  90]]\n",
            "\n",
            " [[165 213   0]\n",
            "  [ 24 252 221]\n",
            "  [ 81  55  31]\n",
            "  [124 246 134]\n",
            "  [ 10 138  29]\n",
            "  [154  22 215]\n",
            "  [199 243 147]\n",
            "  [164  24 193]\n",
            "  [210 164 104]\n",
            "  [ 87  44 120]]\n",
            "\n",
            " [[ 40 194  93]\n",
            "  [ 26 148 234]\n",
            "  [142 229 223]\n",
            "  [109  44 166]\n",
            "  [214 133 241]\n",
            "  [201 192  91]\n",
            "  [165 129 201]\n",
            "  [105 240 219]\n",
            "  [ 63   2  93]\n",
            "  [ 99 219 153]]\n",
            "\n",
            " [[101  77 170]\n",
            "  [196 186  28]\n",
            "  [ 59 181 165]\n",
            "  [167  62 178]\n",
            "  [143 233 178]\n",
            "  [216   2 199]\n",
            "  [  9  11  29]\n",
            "  [221  83 230]\n",
            "  [ 91 149 161]\n",
            "  [179  84  60]]\n",
            "\n",
            " [[224   4 189]\n",
            "  [ 23 118 160]\n",
            "  [ 29 163 217]\n",
            "  [ 72 249  88]\n",
            "  [203  75 164]\n",
            "  [230  32 124]\n",
            "  [ 89 253 204]\n",
            "  [137  96 242]\n",
            "  [ 15 253 127]\n",
            "  [ 26 221 157]]\n",
            "\n",
            " [[184 144   2]\n",
            "  [226 240 135]\n",
            "  [149 116   2]\n",
            "  [215  98 214]\n",
            "  [166  22 100]\n",
            "  [251 130 139]\n",
            "  [140 154 113]\n",
            "  [ 29  26  14]\n",
            "  [ 41  61  99]\n",
            "  [ 77 229 167]]\n",
            "\n",
            " [[204 196  79]\n",
            "  [111 238 162]\n",
            "  [199 147  37]\n",
            "  [184  44  55]\n",
            "  [ 66 221  58]\n",
            "  [ 20  84  39]\n",
            "  [119  14 219]\n",
            "  [133 143 170]\n",
            "  [ 58  50  22]\n",
            "  [147 232  46]]\n",
            "\n",
            " [[135 177  89]\n",
            "  [130  71 167]\n",
            "  [133 162 178]\n",
            "  [194 186 151]\n",
            "  [ 67  92 164]\n",
            "  [223  63   3]\n",
            "  [114 146 206]\n",
            "  [251  51 178]\n",
            "  [171 162 115]\n",
            "  [134 220  72]]]\n"
          ]
        }
      ]
    },
    {
      "cell_type": "markdown",
      "source": [
        ""
      ],
      "metadata": {
        "id": "6XhnlSy9YfXc"
      }
    },
    {
      "cell_type": "code",
      "source": [
        "mat = np.zeros([3,3])\n",
        "for i in range(3):\n",
        "  for j in range(3):\n",
        "    texto = f\"Digite o número {i}, {j}: \"\n",
        "    mat[i][j] = input(texto)\n",
        "print(mat)\n"
      ],
      "metadata": {
        "colab": {
          "base_uri": "https://localhost:8080/"
        },
        "id": "tgAloeSIYfzb",
        "outputId": "d7d38524-44d8-48a2-8508-e5ad0a788d76"
      },
      "execution_count": 49,
      "outputs": [
        {
          "output_type": "stream",
          "name": "stdout",
          "text": [
            "Digite o número 0, 0: 1\n",
            "Digite o número 0, 1: 2\n",
            "Digite o número 0, 2: 3\n",
            "Digite o número 1, 0: 4\n",
            "Digite o número 1, 1: 5\n",
            "Digite o número 1, 2: 6\n",
            "Digite o número 2, 0: 7\n",
            "Digite o número 2, 1: 8\n",
            "Digite o número 2, 2: 9\n",
            "[[1. 2. 3.]\n",
            " [4. 5. 6.]\n",
            " [7. 8. 9.]]\n"
          ]
        }
      ]
    },
    {
      "cell_type": "code",
      "source": [
        "mat = np.add(mat, [10,20,30])\n",
        "print(mat)"
      ],
      "metadata": {
        "colab": {
          "base_uri": "https://localhost:8080/"
        },
        "id": "J7KOMSbYZcZb",
        "outputId": "ae851e2c-ce05-42fd-ad81-a22054e724a0"
      },
      "execution_count": 55,
      "outputs": [
        {
          "output_type": "stream",
          "name": "stdout",
          "text": [
            "[[21. 42. 63.]\n",
            " [24. 45. 66.]\n",
            " [27. 48. 69.]]\n"
          ]
        }
      ]
    },
    {
      "cell_type": "code",
      "source": [
        "mat = np.append(mat, [10,20,30])\n",
        "mat"
      ],
      "metadata": {
        "colab": {
          "base_uri": "https://localhost:8080/"
        },
        "id": "tCdhuOnGaMFz",
        "outputId": "9c2c015a-b2ce-4a31-fe3b-fb715c9efbfe"
      },
      "execution_count": 57,
      "outputs": [
        {
          "output_type": "execute_result",
          "data": {
            "text/plain": [
              "array([21., 42., 63., 24., 45., 66., 27., 48., 69., 10., 20., 30., 10.,\n",
              "       20., 30.])"
            ]
          },
          "metadata": {},
          "execution_count": 57
        }
      ]
    },
    {
      "cell_type": "code",
      "source": [
        "# Subtrair a média de cada linha de uma matriz\n",
        "array = np.random.random(size=(3, 3))\n",
        "mean = array.mean(axis=1)\n",
        "#mean = np.expand_dims(mean, axis=1)\n",
        "print(array)\n",
        "print(mean)\n",
        "print(array - mean)\n",
        "\n",
        "\n"
      ],
      "metadata": {
        "colab": {
          "base_uri": "https://localhost:8080/"
        },
        "id": "iu4MoXSiKUcQ",
        "outputId": "4994d695-57fa-48af-c8cb-2a21afd0d35a"
      },
      "execution_count": 22,
      "outputs": [
        {
          "output_type": "stream",
          "name": "stdout",
          "text": [
            "[[0.11580243 0.05244782 0.34257467]\n",
            " [0.89964472 0.76617984 0.80557382]\n",
            " [0.14839569 0.2653365  0.17957325]]\n",
            "[0.17027497 0.82379946 0.19776848]\n",
            "[[-0.05447254 -0.77135165  0.14480619]\n",
            " [ 0.72936975 -0.05761962  0.60780534]\n",
            " [-0.02187928 -0.55846296 -0.01819523]]\n"
          ]
        }
      ]
    },
    {
      "cell_type": "code",
      "source": [
        "mat1 = np.eye(3)\n",
        "print(mat1)\n",
        "mat2 = np.random.randint(0, 9, size=(3, 3))\n",
        "print(mat2)\n",
        "print(mat1 + mat2)"
      ],
      "metadata": {
        "colab": {
          "base_uri": "https://localhost:8080/"
        },
        "id": "0TKV5F3yau5f",
        "outputId": "67c3c87f-b71e-4145-e0e6-3be06a4bedc1"
      },
      "execution_count": 59,
      "outputs": [
        {
          "output_type": "stream",
          "name": "stdout",
          "text": [
            "[[1. 0. 0.]\n",
            " [0. 1. 0.]\n",
            " [0. 0. 1.]]\n",
            "[[8 8 0]\n",
            " [1 2 4]\n",
            " [4 4 4]]\n",
            "[[9. 8. 0.]\n",
            " [1. 3. 4.]\n",
            " [4. 4. 5.]]\n"
          ]
        }
      ]
    },
    {
      "cell_type": "code",
      "source": [
        "# Como encontrar o valor mais frequente em uma matriz?\n",
        "\n",
        "from scipy import stats\n",
        "from numpy import random\n",
        "array = random.choice([3, 5, 7, 9], p=[0.1, 0.2, 0.6, 0.1], size=(100))\n",
        "print(array)\n",
        "print(stats.mode(array.flatten()))\n",
        "\n"
      ],
      "metadata": {
        "colab": {
          "base_uri": "https://localhost:8080/"
        },
        "id": "Mc7EUgUsKUfW",
        "outputId": "33ff3941-d8ff-4389-8baa-a45d0cbe9b70"
      },
      "execution_count": 61,
      "outputs": [
        {
          "output_type": "stream",
          "name": "stdout",
          "text": [
            "[7 7 5 3 9 7 5 7 5 7 7 7 5 5 7 7 7 5 7 7 7 5 5 7 7 7 9 7 7 5 3 7 7 7 5 5 7\n",
            " 7 5 7 7 7 5 7 7 5 7 7 9 7 7 7 5 5 7 7 5 7 7 7 7 3 7 7 7 7 7 9 9 7 5 9 7 5\n",
            " 7 7 3 7 7 7 7 5 5 5 5 7 3 3 7 7 7 9 7 7 7 3 7 5 7 9]\n",
            "ModeResult(mode=array([7]), count=array([61]))\n"
          ]
        }
      ]
    },
    {
      "cell_type": "code",
      "source": [
        "# Crie uma matriz a partir de um arquivo\n",
        "#array = np.load('matriz.npy')\n",
        "#print(array)\n",
        "   # StringIO se comporta como um arquivo\n",
        "from io import StringIO\n",
        "c = StringIO(\"0 1\\n2 3\")\n",
        "np.loadtxt(c)\n",
        "\n",
        "\n"
      ],
      "metadata": {
        "colab": {
          "base_uri": "https://localhost:8080/"
        },
        "id": "DRV1zO5dKUin",
        "outputId": "e6eb6838-8e22-4793-dffa-eee208bfb3a5"
      },
      "execution_count": 29,
      "outputs": [
        {
          "output_type": "execute_result",
          "data": {
            "text/plain": [
              "array([[0., 1.],\n",
              "       [2., 3.]])"
            ]
          },
          "metadata": {},
          "execution_count": 29
        }
      ]
    },
    {
      "cell_type": "code",
      "source": [
        "mat = np.loadtxt(\"matriz.txt\")\n",
        "print(mat)\n",
        "print(mat + 5)"
      ],
      "metadata": {
        "colab": {
          "base_uri": "https://localhost:8080/"
        },
        "id": "7xDeoyoTcTli",
        "outputId": "b3c9e6d8-ad98-4079-f3b8-53546beef429"
      },
      "execution_count": 64,
      "outputs": [
        {
          "output_type": "stream",
          "name": "stdout",
          "text": [
            "[[0. 1.]\n",
            " [2. 3.]]\n",
            "[[5. 6.]\n",
            " [7. 8.]]\n"
          ]
        }
      ]
    },
    {
      "cell_type": "code",
      "source": [
        "# crie uma matriz com valores aletaórios e salve para um arquivo\n",
        "\n",
        "array = np.random.randint(0, 256, size=(8, 10, 3))\n",
        "np.save('matriz2.txt', array)\n",
        "print(array)"
      ],
      "metadata": {
        "colab": {
          "base_uri": "https://localhost:8080/"
        },
        "id": "0MScllmkKUl1",
        "outputId": "6de9667b-72e6-4387-d6a0-71e965937d53"
      },
      "execution_count": 67,
      "outputs": [
        {
          "output_type": "stream",
          "name": "stdout",
          "text": [
            "[[[188   3  72]\n",
            "  [ 74  35 160]\n",
            "  [165 193 151]\n",
            "  [  2  25 218]\n",
            "  [ 45 134 103]\n",
            "  [219 102 233]\n",
            "  [158  60 246]\n",
            "  [ 17 163 131]\n",
            "  [126 133 232]\n",
            "  [219 212 164]]\n",
            "\n",
            " [[150  97 201]\n",
            "  [ 19 181 221]\n",
            "  [ 25 178 243]\n",
            "  [253 105 105]\n",
            "  [145 128  23]\n",
            "  [ 66 106 104]\n",
            "  [ 83  38 202]\n",
            "  [196  11  60]\n",
            "  [235  52 210]\n",
            "  [ 12 221 126]]\n",
            "\n",
            " [[ 88  56  51]\n",
            "  [ 36 133 156]\n",
            "  [155 151 252]\n",
            "  [229 254 127]\n",
            "  [ 51 121 244]\n",
            "  [205 131   3]\n",
            "  [ 65 249 223]\n",
            "  [226  25 228]\n",
            "  [146  18 168]\n",
            "  [ 27 156  61]]\n",
            "\n",
            " [[199 225 190]\n",
            "  [186 217 212]\n",
            "  [ 40  86  75]\n",
            "  [ 70 155  97]\n",
            "  [149   6   5]\n",
            "  [ 85  55  52]\n",
            "  [ 54  30  77]\n",
            "  [ 76 132  80]\n",
            "  [205 152 172]\n",
            "  [225 102 114]]\n",
            "\n",
            " [[ 10 196 210]\n",
            "  [152 162  30]\n",
            "  [126 210  78]\n",
            "  [128 153 195]\n",
            "  [205  82  77]\n",
            "  [ 97 233 127]\n",
            "  [204 154 212]\n",
            "  [ 85   4 123]\n",
            "  [ 90  67 251]\n",
            "  [204 240 205]]\n",
            "\n",
            " [[235   0 173]\n",
            "  [221 139 159]\n",
            "  [106  92 100]\n",
            "  [239 249 139]\n",
            "  [158 168 194]\n",
            "  [243  31  10]\n",
            "  [172   3 130]\n",
            "  [204 187  68]\n",
            "  [ 13 242 152]\n",
            "  [111 251 245]]\n",
            "\n",
            " [[ 46 249  53]\n",
            "  [212  27 110]\n",
            "  [224 161 245]\n",
            "  [ 36 241   8]\n",
            "  [177  85  39]\n",
            "  [110  71 193]\n",
            "  [207 247 103]\n",
            "  [ 73 100 136]\n",
            "  [207 243  49]\n",
            "  [ 38  30 192]]\n",
            "\n",
            " [[240 101  26]\n",
            "  [146 183 170]\n",
            "  [160  89 133]\n",
            "  [184  88 120]\n",
            "  [218 144 204]\n",
            "  [  3 101  98]\n",
            "  [128 179 241]\n",
            "  [170  37 170]\n",
            "  [  5 244  91]\n",
            "  [  6 161 225]]]\n"
          ]
        }
      ]
    },
    {
      "cell_type": "code",
      "source": [
        ""
      ],
      "metadata": {
        "id": "FEY3kzvcdI10"
      },
      "execution_count": null,
      "outputs": []
    },
    {
      "cell_type": "code",
      "source": [
        "np.savetxt('matriz3.txt', mat2)"
      ],
      "metadata": {
        "id": "z80v7azbKUou"
      },
      "execution_count": 69,
      "outputs": []
    },
    {
      "cell_type": "code",
      "source": [
        ""
      ],
      "metadata": {
        "id": "J0MIteCIdMon"
      },
      "execution_count": null,
      "outputs": []
    }
  ]
}