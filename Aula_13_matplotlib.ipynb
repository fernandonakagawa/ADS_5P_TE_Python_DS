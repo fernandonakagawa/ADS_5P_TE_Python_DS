{
  "nbformat": 4,
  "nbformat_minor": 0,
  "metadata": {
    "colab": {
      "name": "Aula_13_matplotlib.ipynb",
      "provenance": [],
      "collapsed_sections": [],
      "authorship_tag": "ABX9TyOxD0Sl1xHd84PR3WBrk9Rg",
      "include_colab_link": true
    },
    "kernelspec": {
      "name": "python3",
      "display_name": "Python 3"
    },
    "language_info": {
      "name": "python"
    }
  },
  "cells": [
    {
      "cell_type": "markdown",
      "metadata": {
        "id": "view-in-github",
        "colab_type": "text"
      },
      "source": [
        "<a href=\"https://colab.research.google.com/github/fernandonakagawa/ADS_5P_TE_Python_DS/blob/main/Aula_13_matplotlib.ipynb\" target=\"_parent\"><img src=\"https://colab.research.google.com/assets/colab-badge.svg\" alt=\"Open In Colab\"/></a>"
      ]
    },
    {
      "cell_type": "markdown",
      "source": [
        "# Exercícios da Aula 12 - Numpy"
      ],
      "metadata": {
        "id": "7rdFt5O4J1nC"
      }
    },
    {
      "cell_type": "code",
      "execution_count": 3,
      "metadata": {
        "colab": {
          "base_uri": "https://localhost:8080/"
        },
        "id": "6Myg8nVO7ZA1",
        "outputId": "67207ae9-b5d5-4798-c220-439f2e61a803"
      },
      "outputs": [
        {
          "output_type": "execute_result",
          "data": {
            "text/plain": [
              "array([2.29577839e-316, 3.60739284e-313, 1.38338381e-322, 2.29578472e-316,\n",
              "       0.00000000e+000, 0.00000000e+000, 4.94065646e-323, 0.00000000e+000,\n",
              "       0.00000000e+000, 0.00000000e+000])"
            ]
          },
          "metadata": {},
          "execution_count": 3
        }
      ],
      "source": [
        "# Crie um vetor nulo de tamanho 10\n",
        "\n",
        "import numpy as np\n",
        "\n",
        "array = np.empty(10)\n",
        "\n",
        "array\n"
      ]
    },
    {
      "cell_type": "code",
      "source": [
        "# Como encontrar o tamanho da memória de qualquer matriz\n",
        "\n",
        "print(array.size * array.itemsize)\n",
        "\n"
      ],
      "metadata": {
        "colab": {
          "base_uri": "https://localhost:8080/"
        },
        "id": "_hbEoh5qKDV9",
        "outputId": "d9c22a68-517e-42d5-95df-5f3e28afcf3d"
      },
      "execution_count": 4,
      "outputs": [
        {
          "output_type": "stream",
          "name": "stdout",
          "text": [
            "80\n"
          ]
        }
      ]
    },
    {
      "cell_type": "code",
      "source": [
        "# Crie um vetor nulo de tamanho 10, mas o quinto valor, que é 1\n",
        "\n",
        "array[4] = 1\n",
        "array\n"
      ],
      "metadata": {
        "colab": {
          "base_uri": "https://localhost:8080/"
        },
        "id": "lImhuyTRKDY-",
        "outputId": "52ac533e-cd05-4412-f090-38f9238c1f57"
      },
      "execution_count": 6,
      "outputs": [
        {
          "output_type": "execute_result",
          "data": {
            "text/plain": [
              "array([2.29577839e-316, 3.60739284e-313, 1.38338381e-322, 2.29578472e-316,\n",
              "       1.00000000e+000, 0.00000000e+000, 4.94065646e-323, 0.00000000e+000,\n",
              "       0.00000000e+000, 0.00000000e+000])"
            ]
          },
          "metadata": {},
          "execution_count": 6
        }
      ]
    },
    {
      "cell_type": "code",
      "source": [
        "# Crie um vetor com valores que variam de 10 a 49\n",
        "\n",
        "array = np.random.randint(10, 50, size=10)\n",
        "print(array)\n",
        "\n"
      ],
      "metadata": {
        "colab": {
          "base_uri": "https://localhost:8080/"
        },
        "id": "CQby33WAKDbt",
        "outputId": "7cbbed38-269b-4fbc-847c-360379abaf8d"
      },
      "execution_count": 7,
      "outputs": [
        {
          "output_type": "stream",
          "name": "stdout",
          "text": [
            "[24 25 30 26 31 37 16 26 14 39]\n"
          ]
        }
      ]
    },
    {
      "cell_type": "code",
      "source": [
        "# Inverter um vetor (o primeiro elemento se torna o último)\n",
        "\n",
        "array = array[::-1]\n",
        "print(array)\n",
        "\n",
        "\n"
      ],
      "metadata": {
        "colab": {
          "base_uri": "https://localhost:8080/"
        },
        "id": "4Hd2O0bnKDe1",
        "outputId": "2b7a7a18-c3bb-4e8c-8fb4-895a88c4dde6"
      },
      "execution_count": 8,
      "outputs": [
        {
          "output_type": "stream",
          "name": "stdout",
          "text": [
            "[39 14 26 16 37 31 26 30 25 24]\n"
          ]
        }
      ]
    },
    {
      "cell_type": "code",
      "source": [
        "# Crie uma matriz 3x3 com valores que variam de 0 a 8\n",
        "\n",
        "array = np.random.randint(0, 9, size=(3, 3))\n",
        "print(array)\n",
        "\n"
      ],
      "metadata": {
        "colab": {
          "base_uri": "https://localhost:8080/"
        },
        "id": "Ohz8o1V-KDht",
        "outputId": "5fd7e458-734d-4948-cbe1-cc8526ac71e2"
      },
      "execution_count": 9,
      "outputs": [
        {
          "output_type": "stream",
          "name": "stdout",
          "text": [
            "[[3 5 6]\n",
            " [1 0 4]\n",
            " [6 5 4]]\n"
          ]
        }
      ]
    },
    {
      "cell_type": "code",
      "source": [
        "# Crie uma matriz de identidade 3x3\n",
        "\n",
        "array = np.eye(3)\n",
        "print(array)\n",
        "\n"
      ],
      "metadata": {
        "colab": {
          "base_uri": "https://localhost:8080/"
        },
        "id": "CVT8JdfeKDkl",
        "outputId": "9a989fa4-0745-42d7-a7ee-872ebcbcdce0"
      },
      "execution_count": 10,
      "outputs": [
        {
          "output_type": "stream",
          "name": "stdout",
          "text": [
            "[[1. 0. 0.]\n",
            " [0. 1. 0.]\n",
            " [0. 0. 1.]]\n"
          ]
        }
      ]
    },
    {
      "cell_type": "code",
      "source": [
        "# Crie uma matriz 3x3x3 com valores aleatórios\n",
        "\n",
        "array = np.random.random(size=(3, 3, 3))\n",
        "print(array)\n",
        "\n"
      ],
      "metadata": {
        "colab": {
          "base_uri": "https://localhost:8080/"
        },
        "id": "pEQ-NH0bKDnm",
        "outputId": "b2d893b9-7be4-49d4-e0fb-7eb7b39af25e"
      },
      "execution_count": 11,
      "outputs": [
        {
          "output_type": "stream",
          "name": "stdout",
          "text": [
            "[[[0.62084338 0.94612894 0.09613585]\n",
            "  [0.85672552 0.56570734 0.80733547]\n",
            "  [0.8568818  0.60575732 0.49338915]]\n",
            "\n",
            " [[0.87275849 0.46639701 0.87387316]\n",
            "  [0.16727728 0.05900087 0.42930557]\n",
            "  [0.42714276 0.56585516 0.83955207]]\n",
            "\n",
            " [[0.93202688 0.00499754 0.20213342]\n",
            "  [0.02954423 0.94856071 0.91089347]\n",
            "  [0.20124334 0.88307681 0.2914662 ]]]\n"
          ]
        }
      ]
    },
    {
      "cell_type": "code",
      "source": [
        "# Crie uma matriz 10x10 com valores aleatórios e encontre os valores mínimo e máximo\n",
        "\n",
        "array = np.random.random(size=(10, 10))\n",
        "print(array, 'max', array.max(), 'min', array.min())\n",
        "\n"
      ],
      "metadata": {
        "colab": {
          "base_uri": "https://localhost:8080/"
        },
        "id": "k3fviYJBKDqu",
        "outputId": "f22c64d9-4980-422e-d549-491df11f844a"
      },
      "execution_count": 12,
      "outputs": [
        {
          "output_type": "stream",
          "name": "stdout",
          "text": [
            "[[0.75276803 0.9522984  0.64637027 0.27076685 0.85318554 0.85186636\n",
            "  0.8134112  0.61618249 0.43702087 0.43273397]\n",
            " [0.65505878 0.22177113 0.96812694 0.62631056 0.32058249 0.04281359\n",
            "  0.34062486 0.54248252 0.45787988 0.85026139]\n",
            " [0.47609547 0.74660921 0.95909815 0.07345205 0.92206337 0.43046731\n",
            "  0.76429407 0.09906881 0.77933621 0.76156029]\n",
            " [0.57671853 0.77807565 0.36527424 0.2160459  0.83591074 0.41904351\n",
            "  0.60014919 0.31301893 0.85852487 0.54708108]\n",
            " [0.00434515 0.17062379 0.79976632 0.84991072 0.97278842 0.57157117\n",
            "  0.20782083 0.1380483  0.45442283 0.74947029]\n",
            " [0.72700168 0.18577108 0.68941071 0.48429602 0.31701013 0.21874623\n",
            "  0.65516606 0.8823431  0.42607188 0.71462081]\n",
            " [0.76928564 0.42260341 0.83560083 0.7897768  0.2698188  0.87200417\n",
            "  0.23784838 0.79398195 0.87618123 0.93900572]\n",
            " [0.44254407 0.74807763 0.591507   0.08463197 0.81283492 0.75473806\n",
            "  0.25990276 0.13046411 0.40936461 0.12090729]\n",
            " [0.06189488 0.73275198 0.76840231 0.45449668 0.36720895 0.4892633\n",
            "  0.19112748 0.27261553 0.45232689 0.03834451]\n",
            " [0.35569585 0.63279274 0.93336316 0.43172798 0.40596256 0.46317348\n",
            "  0.85178028 0.47197475 0.57919349 0.52842441]] max 0.9727884189540549 min 0.0043451486893532065\n"
          ]
        }
      ]
    },
    {
      "cell_type": "code",
      "source": [
        "# Crie um vetor aleatório de tamanho 30 e encontre o valor médio\n",
        "\n",
        "array = np.random.random(size=(30))\n",
        "print(array, 'mean', array.mean())\n",
        "\n"
      ],
      "metadata": {
        "colab": {
          "base_uri": "https://localhost:8080/"
        },
        "id": "O8NY-2UaKDto",
        "outputId": "66c977b5-c9e9-4a8a-e2c4-56559e786939"
      },
      "execution_count": 14,
      "outputs": [
        {
          "output_type": "stream",
          "name": "stdout",
          "text": [
            "[0.64808492 0.10206147 0.2406878  0.35675297 0.80901256 0.96702566\n",
            " 0.31834648 0.46578345 0.2331084  0.38160468 0.94394413 0.82850148\n",
            " 0.19591661 0.85955393 0.66435571 0.96353247 0.07950312 0.12162634\n",
            " 0.23931409 0.25698562 0.44905334 0.64442905 0.5970005  0.44824341\n",
            " 0.50203184 0.36091706 0.54601145 0.61354523 0.914263   0.59042263] mean 0.5113873131620394\n"
          ]
        }
      ]
    },
    {
      "cell_type": "code",
      "source": [
        "# Crie uma matriz 2D com 1 na borda e 0 dentro\n",
        "\n",
        "array = np.zeros((10, 10))\n",
        "array[0, :] = 1\n",
        "array[-1, :] = 1\n",
        "array[:, 0] = 1\n",
        "array[:, -1] = 1\n",
        "print(array)\n",
        "\n",
        "\n"
      ],
      "metadata": {
        "colab": {
          "base_uri": "https://localhost:8080/"
        },
        "id": "2h7J1QnuKDxT",
        "outputId": "6f99fc23-2db7-4f76-8655-a3dbd82e3239"
      },
      "execution_count": 15,
      "outputs": [
        {
          "output_type": "stream",
          "name": "stdout",
          "text": [
            "[[1. 1. 1. 1. 1. 1. 1. 1. 1. 1.]\n",
            " [1. 0. 0. 0. 0. 0. 0. 0. 0. 1.]\n",
            " [1. 0. 0. 0. 0. 0. 0. 0. 0. 1.]\n",
            " [1. 0. 0. 0. 0. 0. 0. 0. 0. 1.]\n",
            " [1. 0. 0. 0. 0. 0. 0. 0. 0. 1.]\n",
            " [1. 0. 0. 0. 0. 0. 0. 0. 0. 1.]\n",
            " [1. 0. 0. 0. 0. 0. 0. 0. 0. 1.]\n",
            " [1. 0. 0. 0. 0. 0. 0. 0. 0. 1.]\n",
            " [1. 0. 0. 0. 0. 0. 0. 0. 0. 1.]\n",
            " [1. 1. 1. 1. 1. 1. 1. 1. 1. 1.]]\n"
          ]
        }
      ]
    },
    {
      "cell_type": "code",
      "source": [
        "# Crie uma matriz 5x5 com valores 1,2,3,4 logo abaixo da diagonal\n",
        "\n",
        "array = np.eye(5)\n",
        "for i in range(4):\n",
        "    array[i + 1, i] = i + 1\n",
        "print(array)\n",
        "\n",
        "\n"
      ],
      "metadata": {
        "colab": {
          "base_uri": "https://localhost:8080/"
        },
        "id": "MEhIqRJmKD31",
        "outputId": "c56a772d-086d-4b2f-bb26-f2afb18e1230"
      },
      "execution_count": 16,
      "outputs": [
        {
          "output_type": "stream",
          "name": "stdout",
          "text": [
            "[[1. 0. 0. 0. 0.]\n",
            " [1. 1. 0. 0. 0.]\n",
            " [0. 2. 1. 0. 0.]\n",
            " [0. 0. 3. 1. 0.]\n",
            " [0. 0. 0. 4. 1.]]\n"
          ]
        }
      ]
    },
    {
      "cell_type": "code",
      "source": [
        "# Crie uma matriz estruturada representando uma posição (x, y) e uma cor (r, g, b)\n",
        "\n",
        "array = np.random.randint(0, 256, size=(8, 10, 3))\n",
        "print(array)\n",
        "\n"
      ],
      "metadata": {
        "colab": {
          "base_uri": "https://localhost:8080/"
        },
        "id": "QP_YHHZFKD6-",
        "outputId": "bb4ac430-7c4d-40ae-887d-9f4138435da2"
      },
      "execution_count": 17,
      "outputs": [
        {
          "output_type": "stream",
          "name": "stdout",
          "text": [
            "[[[ 66 179 108]\n",
            "  [ 43 101 106]\n",
            "  [ 38 166  80]\n",
            "  [ 57 245 203]\n",
            "  [210  64 144]\n",
            "  [ 16  78  41]\n",
            "  [ 30  77 229]\n",
            "  [184  80 115]\n",
            "  [ 44 218  48]\n",
            "  [ 29 192  90]]\n",
            "\n",
            " [[165 213   0]\n",
            "  [ 24 252 221]\n",
            "  [ 81  55  31]\n",
            "  [124 246 134]\n",
            "  [ 10 138  29]\n",
            "  [154  22 215]\n",
            "  [199 243 147]\n",
            "  [164  24 193]\n",
            "  [210 164 104]\n",
            "  [ 87  44 120]]\n",
            "\n",
            " [[ 40 194  93]\n",
            "  [ 26 148 234]\n",
            "  [142 229 223]\n",
            "  [109  44 166]\n",
            "  [214 133 241]\n",
            "  [201 192  91]\n",
            "  [165 129 201]\n",
            "  [105 240 219]\n",
            "  [ 63   2  93]\n",
            "  [ 99 219 153]]\n",
            "\n",
            " [[101  77 170]\n",
            "  [196 186  28]\n",
            "  [ 59 181 165]\n",
            "  [167  62 178]\n",
            "  [143 233 178]\n",
            "  [216   2 199]\n",
            "  [  9  11  29]\n",
            "  [221  83 230]\n",
            "  [ 91 149 161]\n",
            "  [179  84  60]]\n",
            "\n",
            " [[224   4 189]\n",
            "  [ 23 118 160]\n",
            "  [ 29 163 217]\n",
            "  [ 72 249  88]\n",
            "  [203  75 164]\n",
            "  [230  32 124]\n",
            "  [ 89 253 204]\n",
            "  [137  96 242]\n",
            "  [ 15 253 127]\n",
            "  [ 26 221 157]]\n",
            "\n",
            " [[184 144   2]\n",
            "  [226 240 135]\n",
            "  [149 116   2]\n",
            "  [215  98 214]\n",
            "  [166  22 100]\n",
            "  [251 130 139]\n",
            "  [140 154 113]\n",
            "  [ 29  26  14]\n",
            "  [ 41  61  99]\n",
            "  [ 77 229 167]]\n",
            "\n",
            " [[204 196  79]\n",
            "  [111 238 162]\n",
            "  [199 147  37]\n",
            "  [184  44  55]\n",
            "  [ 66 221  58]\n",
            "  [ 20  84  39]\n",
            "  [119  14 219]\n",
            "  [133 143 170]\n",
            "  [ 58  50  22]\n",
            "  [147 232  46]]\n",
            "\n",
            " [[135 177  89]\n",
            "  [130  71 167]\n",
            "  [133 162 178]\n",
            "  [194 186 151]\n",
            "  [ 67  92 164]\n",
            "  [223  63   3]\n",
            "  [114 146 206]\n",
            "  [251  51 178]\n",
            "  [171 162 115]\n",
            "  [134 220  72]]]\n"
          ]
        }
      ]
    },
    {
      "cell_type": "code",
      "source": [
        "# Subtrair a média de cada linha de uma matriz\n",
        "array = np.random.random(size=(3, 3))\n",
        "mean = array.mean(axis=1)\n",
        "#mean = np.expand_dims(mean, axis=1)\n",
        "print(array)\n",
        "print(mean)\n",
        "print(array - mean)\n",
        "\n",
        "\n"
      ],
      "metadata": {
        "colab": {
          "base_uri": "https://localhost:8080/"
        },
        "id": "iu4MoXSiKUcQ",
        "outputId": "4994d695-57fa-48af-c8cb-2a21afd0d35a"
      },
      "execution_count": 22,
      "outputs": [
        {
          "output_type": "stream",
          "name": "stdout",
          "text": [
            "[[0.11580243 0.05244782 0.34257467]\n",
            " [0.89964472 0.76617984 0.80557382]\n",
            " [0.14839569 0.2653365  0.17957325]]\n",
            "[0.17027497 0.82379946 0.19776848]\n",
            "[[-0.05447254 -0.77135165  0.14480619]\n",
            " [ 0.72936975 -0.05761962  0.60780534]\n",
            " [-0.02187928 -0.55846296 -0.01819523]]\n"
          ]
        }
      ]
    },
    {
      "cell_type": "code",
      "source": [
        "# Como encontrar o valor mais frequente em uma matriz?\n",
        "\n",
        "from scipy import stats\n",
        "from numpy import random\n",
        "array = random.choice([3, 5, 7, 9], p=[0.1, 0.5, 0.3, 0.1], size=(100))\n",
        "print(array)\n",
        "print(stats.mode(array.flatten()))\n",
        "\n"
      ],
      "metadata": {
        "colab": {
          "base_uri": "https://localhost:8080/"
        },
        "id": "Mc7EUgUsKUfW",
        "outputId": "657e8f33-ce2a-4e0b-a229-99c5950c57f9"
      },
      "execution_count": 27,
      "outputs": [
        {
          "output_type": "stream",
          "name": "stdout",
          "text": [
            "[5 7 5 5 5 3 5 5 5 7 7 7 3 7 5 5 5 5 7 5 3 9 7 5 3 5 7 7 5 5 5 7 7 7 7 5 9\n",
            " 5 7 9 5 5 5 7 5 5 7 5 7 5 7 7 7 9 5 5 7 5 5 5 7 5 5 5 3 9 7 5 5 7 7 3 5 9\n",
            " 7 7 5 7 5 3 9 5 7 3 5 7 7 5 3 7 7 5 5 5 7 9 5 5 7 5]\n",
            "ModeResult(mode=array([5]), count=array([48]))\n"
          ]
        }
      ]
    },
    {
      "cell_type": "code",
      "source": [
        "# Crie uma matriz a partir de um arquivo\n",
        "#array = np.load('matriz.npy')\n",
        "#print(array)\n",
        "\n",
        "from io import StringIO   # StringIO se comporta como um arquivo\n",
        "c = StringIO(\"0 1\\n2 3\")\n",
        "np.loadtxt(c)\n",
        "\n",
        "\n"
      ],
      "metadata": {
        "colab": {
          "base_uri": "https://localhost:8080/"
        },
        "id": "DRV1zO5dKUin",
        "outputId": "e6eb6838-8e22-4793-dffa-eee208bfb3a5"
      },
      "execution_count": 29,
      "outputs": [
        {
          "output_type": "execute_result",
          "data": {
            "text/plain": [
              "array([[0., 1.],\n",
              "       [2., 3.]])"
            ]
          },
          "metadata": {},
          "execution_count": 29
        }
      ]
    },
    {
      "cell_type": "code",
      "source": [
        "# crie uma matriz com valores aletaórios e salve para um arquivo\n",
        "\n",
        "array = np.random.randint(0, 256, size=(8, 10, 3))\n",
        "np.save('matriz', array)\n",
        "print(array)"
      ],
      "metadata": {
        "colab": {
          "base_uri": "https://localhost:8080/"
        },
        "id": "0MScllmkKUl1",
        "outputId": "0781e613-023a-4bf5-957f-f52933af4e10"
      },
      "execution_count": 30,
      "outputs": [
        {
          "output_type": "stream",
          "name": "stdout",
          "text": [
            "[[[ 70 212   3]\n",
            "  [156 115  60]\n",
            "  [218   5 217]\n",
            "  [ 39 238 131]\n",
            "  [203 168 206]\n",
            "  [ 40  64  89]\n",
            "  [ 72 165 203]\n",
            "  [217 164 198]\n",
            "  [208 175  16]\n",
            "  [ 83 191 145]]\n",
            "\n",
            " [[ 82 131 203]\n",
            "  [146 151 176]\n",
            "  [104 213 204]\n",
            "  [236 236  19]\n",
            "  [ 90 149 152]\n",
            "  [ 51 246 160]\n",
            "  [249 194 206]\n",
            "  [ 72   9  86]\n",
            "  [141 192  60]\n",
            "  [212 165  42]]\n",
            "\n",
            " [[115  56  91]\n",
            "  [172 182  45]\n",
            "  [188 102  58]\n",
            "  [ 10  99  48]\n",
            "  [245  20 172]\n",
            "  [238 240 233]\n",
            "  [247  19  64]\n",
            "  [ 97  89  24]\n",
            "  [ 13 206  99]\n",
            "  [170 148 140]]\n",
            "\n",
            " [[206 114 174]\n",
            "  [ 24 244 117]\n",
            "  [  9 212 220]\n",
            "  [ 39 240 107]\n",
            "  [ 98 156  34]\n",
            "  [ 11  37  29]\n",
            "  [180 209 233]\n",
            "  [ 95 184  26]\n",
            "  [ 65 106 206]\n",
            "  [164  48 251]]\n",
            "\n",
            " [[ 77  55 236]\n",
            "  [131  58 112]\n",
            "  [227 191 119]\n",
            "  [112  11 146]\n",
            "  [ 26 146  98]\n",
            "  [195 239 213]\n",
            "  [226 216  24]\n",
            "  [132 214 252]\n",
            "  [186  52 232]\n",
            "  [ 17  57 186]]\n",
            "\n",
            " [[111 110 131]\n",
            "  [233 221 220]\n",
            "  [196  93 138]\n",
            "  [178 107  25]\n",
            "  [240  75 105]\n",
            "  [246 251  99]\n",
            "  [ 35 148  93]\n",
            "  [106 248   3]\n",
            "  [ 94  21 198]\n",
            "  [ 69  36 244]]\n",
            "\n",
            " [[ 24 179  65]\n",
            "  [ 89 198 170]\n",
            "  [ 76 255 164]\n",
            "  [119 125 252]\n",
            "  [117  20 204]\n",
            "  [120 229   4]\n",
            "  [244  89  73]\n",
            "  [115 101  46]\n",
            "  [102  13 133]\n",
            "  [244 197 205]]\n",
            "\n",
            " [[ 31 128 102]\n",
            "  [226 209 182]\n",
            "  [ 88 116 214]\n",
            "  [ 28  23 220]\n",
            "  [219  71  14]\n",
            "  [ 22 150  11]\n",
            "  [218 158 166]\n",
            "  [119  38  28]\n",
            "  [ 53  24 103]\n",
            "  [ 35 181  48]]]\n"
          ]
        }
      ]
    },
    {
      "cell_type": "code",
      "source": [
        ""
      ],
      "metadata": {
        "id": "z80v7azbKUou"
      },
      "execution_count": null,
      "outputs": []
    }
  ]
}