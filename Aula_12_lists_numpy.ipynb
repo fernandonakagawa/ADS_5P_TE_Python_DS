{
  "nbformat": 4,
  "nbformat_minor": 0,
  "metadata": {
    "colab": {
      "name": "Aula_12_lists_numpy.ipynb",
      "provenance": [],
      "collapsed_sections": [],
      "mount_file_id": "1jBU-uWjUTlu9R7j5-5knvF57mLYpH9lk",
      "authorship_tag": "ABX9TyMEHcVZQiDA++nkVeHX1cfy",
      "include_colab_link": true
    },
    "kernelspec": {
      "name": "python3",
      "display_name": "Python 3"
    },
    "language_info": {
      "name": "python"
    }
  },
  "cells": [
    {
      "cell_type": "markdown",
      "metadata": {
        "id": "view-in-github",
        "colab_type": "text"
      },
      "source": [
        "<a href=\"https://colab.research.google.com/github/fernandonakagawa/ADS_5P_TE_Python_DS/blob/main/Aula_12_lists_numpy.ipynb\" target=\"_parent\"><img src=\"https://colab.research.google.com/assets/colab-badge.svg\" alt=\"Open In Colab\"/></a>"
      ]
    },
    {
      "cell_type": "markdown",
      "source": [
        "#Desafio Aula 11 - Lists"
      ],
      "metadata": {
        "id": "uZd6pX4o33TR"
      }
    },
    {
      "cell_type": "code",
      "execution_count": 1,
      "metadata": {
        "colab": {
          "base_uri": "https://localhost:8080/"
        },
        "id": "gVP-gAVW3wuZ",
        "outputId": "0ac84119-efa3-4d53-e2f2-547124c5ec8d"
      },
      "outputs": [
        {
          "output_type": "stream",
          "name": "stdout",
          "text": [
            "10\n",
            "20\n",
            "30\n",
            "40\n",
            "50\n"
          ]
        }
      ],
      "source": [
        "\"\"\"\n",
        "Crie um vetor de int vetA com tamanho 5 e mostre na tela os\n",
        "valores de seus elementos\n",
        "\"\"\"\n",
        "vetA = [10,20,30,40,50]\n",
        "for x in vetA:\n",
        "  print(x)"
      ]
    },
    {
      "cell_type": "code",
      "source": [
        "#Considere a lista de compras de Joana e faça o que se pede:\n",
        "lista_de_compras = [\"batata\", \"arroz\", \"feijão\", \"macarrão\", \"detergente\"]\n",
        "#Mostre na tela o tamanho da lista.\n",
        "print( len(lista_de_compras) )\n",
        "#Joana descobriu que não precisa de arroz, mas sim de jiló. Realize a substituição do item.\n",
        "lista_de_compras[1] = \"jiló\"\n",
        "print(lista_de_compras)\n",
        "#Joana encontrou um detergente na sua cozinha, elimine o item.\n",
        "#lista_de_compras.remove(\"detergente\")\n",
        "item = lista_de_compras.pop(4)\n",
        "print(lista_de_compras)\n",
        "#Joana se lembrou que precisa de abacates. Realize a inserção do item na lista\n",
        "lista_de_compras.append(\"abacate\")\n",
        "print(lista_de_compras)\n",
        "#Mostre todos os itens de forma individual utilizando um comando FOR.\n",
        "for item in lista_de_compras:\n",
        "  print(item)\n",
        "for x in range( len(lista_de_compras) ):\n",
        "  print(lista_de_compras[x])"
      ],
      "metadata": {
        "colab": {
          "base_uri": "https://localhost:8080/"
        },
        "id": "-r7ELAPQ7f9j",
        "outputId": "688d63a9-d6bb-4070-b379-0d0f3bff8621"
      },
      "execution_count": 10,
      "outputs": [
        {
          "output_type": "stream",
          "name": "stdout",
          "text": [
            "5\n",
            "['batata', 'jiló', 'feijão', 'macarrão', 'detergente']\n",
            "['batata', 'jiló', 'feijão', 'macarrão']\n",
            "['batata', 'jiló', 'feijão', 'macarrão', 'abacate']\n",
            "batata\n",
            "jiló\n",
            "feijão\n",
            "macarrão\n",
            "abacate\n",
            "batata\n",
            "jiló\n",
            "feijão\n",
            "macarrão\n",
            "abacate\n"
          ]
        }
      ]
    },
    {
      "cell_type": "code",
      "source": [
        "\"\"\"Crie uma list de int vetB com tamanho 5, insira um inteiro com\n",
        "entrada do teclado para cada um dos elementos e mostre na tela os\n",
        "seus valores após a inserção dos elementos.\"\"\"\n",
        "vetB=[]\n",
        "for x in range(5):\n",
        "  vetB.append( int(input(\"Digite um número: \")) )\n",
        "print(vetB)"
      ],
      "metadata": {
        "colab": {
          "base_uri": "https://localhost:8080/"
        },
        "id": "3jEFX16x7gPJ",
        "outputId": "152a3bf6-53f0-4ada-a812-9d1cdd55f372"
      },
      "execution_count": 14,
      "outputs": [
        {
          "output_type": "stream",
          "name": "stdout",
          "text": [
            "Digite um número11\n",
            "Digite um número12\n",
            "Digite um número13\n",
            "Digite um número14\n",
            "Digite um número15\n",
            "[11, 12, 13, 14, 15]\n"
          ]
        }
      ]
    },
    {
      "cell_type": "code",
      "source": [
        "v = [10,20,30,40,50,60,70,80]\n",
        "print(v[-5:-1])\n",
        "print(v[-1:-5])\n",
        "print(v[-5:])\n",
        "print(v[:-5])"
      ],
      "metadata": {
        "colab": {
          "base_uri": "https://localhost:8080/"
        },
        "id": "ZaH2rERK_58S",
        "outputId": "a835464a-8b63-4442-f98d-8411759b6e8d"
      },
      "execution_count": 18,
      "outputs": [
        {
          "output_type": "stream",
          "name": "stdout",
          "text": [
            "[40, 50, 60, 70]\n",
            "[]\n",
            "[40, 50, 60, 70, 80]\n",
            "[10, 20, 30]\n"
          ]
        }
      ]
    },
    {
      "cell_type": "code",
      "source": [
        "\"\"\"Crie uma list de int vetD com tamanho 50, atribua ao conteúdo de\n",
        "cada um de seus elementos o valor de seu índice e mostre o valor\n",
        "de cada um dos elementos na tela multiplicados por 2.\"\"\"\n",
        "vetD=[]\n",
        "for x in range(50):\n",
        "  vetD.append(x)\n",
        "\n",
        "for x in vetD:\n",
        "  print(x*2)"
      ],
      "metadata": {
        "colab": {
          "base_uri": "https://localhost:8080/"
        },
        "id": "9Cc9FAvlByOX",
        "outputId": "8e5bc752-2bf9-4978-b8aa-1353985ac198"
      },
      "execution_count": 19,
      "outputs": [
        {
          "output_type": "stream",
          "name": "stdout",
          "text": [
            "0\n",
            "2\n",
            "4\n",
            "6\n",
            "8\n",
            "10\n",
            "12\n",
            "14\n",
            "16\n",
            "18\n",
            "20\n",
            "22\n",
            "24\n",
            "26\n",
            "28\n",
            "30\n",
            "32\n",
            "34\n",
            "36\n",
            "38\n",
            "40\n",
            "42\n",
            "44\n",
            "46\n",
            "48\n",
            "50\n",
            "52\n",
            "54\n",
            "56\n",
            "58\n",
            "60\n",
            "62\n",
            "64\n",
            "66\n",
            "68\n",
            "70\n",
            "72\n",
            "74\n",
            "76\n",
            "78\n",
            "80\n",
            "82\n",
            "84\n",
            "86\n",
            "88\n",
            "90\n",
            "92\n",
            "94\n",
            "96\n",
            "98\n"
          ]
        }
      ]
    },
    {
      "cell_type": "code",
      "source": [
        "\"\"\"Crie uma tupla contendo todos os meses do ano e mostre qual mês\n",
        "corresponde ao índice 8.\"\"\"\n",
        "meses = (\"jan\", \"fev\", \"mar\", \"abr\", \"mai\", \"jun\", \"jul\", \"ago\", \"set\", \"out\", \"nov\", \"dez\")\n",
        "print(meses[8])\n",
        "#meses[8] = \"setembro\""
      ],
      "metadata": {
        "colab": {
          "base_uri": "https://localhost:8080/"
        },
        "id": "5qUFpGrNCeHh",
        "outputId": "2c60d773-ebbf-4892-b34e-d8a18afbc9c7"
      },
      "execution_count": 23,
      "outputs": [
        {
          "output_type": "stream",
          "name": "stdout",
          "text": [
            "set\n"
          ]
        }
      ]
    },
    {
      "cell_type": "code",
      "source": [
        "\"\"\"Crie um set contendo as partes de um computador e depois adicione\n",
        "o item “memória RAM” e mostre o set na tela.\"\"\"\n",
        "pc = {\"processador\", \"placa-mãe\", \"ssd\"}\n",
        "pc = set([\"processador\", \"placa-mãe\", \"ssd\"])\n",
        "pc.add(\"memória RAM\")\n",
        "print(pc)"
      ],
      "metadata": {
        "colab": {
          "base_uri": "https://localhost:8080/"
        },
        "id": "0bOC-XWzCvpw",
        "outputId": "e473f688-afb6-4fe4-dcbf-a1a566d17eac"
      },
      "execution_count": 24,
      "outputs": [
        {
          "output_type": "stream",
          "name": "stdout",
          "text": [
            "{'ssd', 'placa-mãe', 'processador', 'memória RAM'}\n"
          ]
        }
      ]
    },
    {
      "cell_type": "code",
      "source": [
        "pc2 = {\"processador\", \"monitor\", \"mouse\", \"ssd\"}\n",
        "print(pc2)\n",
        "print( pc.union(pc2) )\n",
        "print( pc.intersection(pc2) )"
      ],
      "metadata": {
        "colab": {
          "base_uri": "https://localhost:8080/"
        },
        "id": "2aDmEN_MDX7R",
        "outputId": "d5fb6239-8289-46b0-b2f0-9c400286930b"
      },
      "execution_count": 27,
      "outputs": [
        {
          "output_type": "stream",
          "name": "stdout",
          "text": [
            "{'ssd', 'monitor', 'processador', 'mouse'}\n",
            "{'ssd', 'monitor', 'processador', 'memória RAM', 'mouse', 'placa-mãe'}\n",
            "{'ssd', 'processador'}\n"
          ]
        }
      ]
    },
    {
      "cell_type": "code",
      "source": [
        "\"\"\"Crie um dicionário que guarde as informações de 5 conceitos de\n",
        "Python que você aprendeu até agora.\"\"\"\n",
        "dic = {\n",
        "    \"lists\": \"vetores em python\",\n",
        "    \"variável\": \"guarda um valor na memória\",\n",
        "}\n",
        "print(dic)"
      ],
      "metadata": {
        "colab": {
          "base_uri": "https://localhost:8080/"
        },
        "id": "W5dXzXOgD4Bg",
        "outputId": "47d11816-d082-40e7-e76c-d39d61ca09a7"
      },
      "execution_count": 29,
      "outputs": [
        {
          "output_type": "stream",
          "name": "stdout",
          "text": [
            "{'lists': 'vetores em python', 'variável': 'guarda um valor na memória'}\n"
          ]
        }
      ]
    },
    {
      "cell_type": "code",
      "source": [
        "\"\"\"Crie um dicionário que guarde as seguintes informações de uma\n",
        "pessoa: nome, cpf, telefone e endereço.\"\"\"\n",
        "pessoa = {\n",
        "    \"nome\":\"Fernando\",\n",
        "    \"cpf\": \"12345678910\",\n",
        "    \"telefone\": \"(43)99999-8989\",\n",
        "    \"endereco\": \"Rua Santa Monica\",\n",
        "}\n",
        "print(pessoa)"
      ],
      "metadata": {
        "colab": {
          "base_uri": "https://localhost:8080/"
        },
        "id": "_xnAZyr1EZ9g",
        "outputId": "6400eeee-ff1f-45db-eaad-aa5e17abf7f3"
      },
      "execution_count": 31,
      "outputs": [
        {
          "output_type": "stream",
          "name": "stdout",
          "text": [
            "{'nome': 'Fernando', 'cpf': '12345678910', 'telefone': '(43)99999-8989', 'endereco': 'Rua Santa Monica'}\n"
          ]
        }
      ]
    },
    {
      "cell_type": "code",
      "source": [
        "\"\"\"Crie uma lista de dicionários que guarde as seguintes informações\n",
        "de uma pessoa: nome, cpf, telefone e endereço.\"\"\"\n",
        "pessoa2 = {\n",
        "    \"nome\":\"Nathan\",\n",
        "    \"cpf\": \"12345678911\",\n",
        "    \"telefone\": \"(43)99999-1111\",\n",
        "    \"endereco\": \"Rua Santa Barbara\",\n",
        "}\n",
        "lista_pessoas = [pessoa, pessoa2]\n",
        "#print(lista_pessoas)\n",
        "pessoa = {\n",
        "    \"nome\":\"Victor\",\n",
        "    \"cpf\": \"12345678912\",\n",
        "    \"telefone\": \"(43)99999-1221\",\n",
        "    \"endereco\": \"Rua Santa Mariana\",\n",
        "}\n",
        "lista_pessoas.append(pessoa)\n",
        "pessoa = {\n",
        "    \"nome\":\"Nathan\",\n",
        "    \"cpf\": \"12345678916\",\n",
        "    \"telefone\": \"(43)99999-1213\",\n",
        "    \"endereco\": \"Rua Santa Maria\",\n",
        "}\n",
        "lista_pessoas.append(pessoa)\n",
        "\n",
        "def mostrar_pessoas(lista_pessoas):\n",
        "  for pessoa in lista_pessoas:\n",
        "    for chave in pessoa:\n",
        "      print(chave,\":\",pessoa[chave])\n",
        "    print(\"----------------\")\n",
        "\n",
        "mostrar_pessoas(lista_pessoas)"
      ],
      "metadata": {
        "colab": {
          "base_uri": "https://localhost:8080/"
        },
        "id": "VIm-R9LvE_0B",
        "outputId": "8bbcb87d-ab59-49b1-8c67-21843bfff94b"
      },
      "execution_count": 37,
      "outputs": [
        {
          "output_type": "stream",
          "name": "stdout",
          "text": [
            "nome : Fernando\n",
            "cpf : 12345678910\n",
            "telefone : (43)99999-8989\n",
            "endereco : Rua Santa Monica\n",
            "----------------\n",
            "nome : Nathan\n",
            "cpf : 12345678911\n",
            "telefone : (43)99999-1111\n",
            "endereco : Rua Santa Barbara\n",
            "----------------\n",
            "nome : Victor\n",
            "cpf : 12345678912\n",
            "telefone : (43)99999-1221\n",
            "endereco : Rua Santa Mariana\n",
            "----------------\n",
            "nome : Nathan\n",
            "cpf : 12345678916\n",
            "telefone : (43)99999-1213\n",
            "endereco : Rua Santa Maria\n",
            "----------------\n"
          ]
        }
      ]
    },
    {
      "cell_type": "code",
      "source": [
        "\"\"\"A partir do exercício anterior crie uma busca onde o usuário\n",
        "possa procurar uma pessoa por nome, cpf, telefone ou endereço.\"\"\"\n",
        "def busca_pessoas(lista_pessoas, termo, atributo):\n",
        "  pessoas_encontradas = []\n",
        "  for pessoa in lista_pessoas:\n",
        "    if pessoa[atributo] == termo: \n",
        "      pessoas_encontradas.append(pessoa)\n",
        "  return pessoas_encontradas\n",
        "\n",
        "atributo = input(\"Digite o atributo de busca: \")\n",
        "termo = input(\"Digite o termo de busca: \")\n",
        "pessoas_encontradas = busca_pessoas(lista_pessoas, termo, atributo)\n",
        "mostrar_pessoas(pessoas_encontradas)"
      ],
      "metadata": {
        "colab": {
          "base_uri": "https://localhost:8080/"
        },
        "id": "gUYoPw2lFTkS",
        "outputId": "e96e5ad1-ddf1-4e6d-b3fa-be40111b6bc7"
      },
      "execution_count": 38,
      "outputs": [
        {
          "output_type": "stream",
          "name": "stdout",
          "text": [
            "Digite o atributo de busca: nome\n",
            "Digite o termo de busca: Nathan\n",
            "nome : Nathan\n",
            "cpf : 12345678911\n",
            "telefone : (43)99999-1111\n",
            "endereco : Rua Santa Barbara\n",
            "----------------\n",
            "nome : Nathan\n",
            "cpf : 12345678916\n",
            "telefone : (43)99999-1213\n",
            "endereco : Rua Santa Maria\n",
            "----------------\n"
          ]
        }
      ]
    },
    {
      "cell_type": "code",
      "source": [
        ""
      ],
      "metadata": {
        "id": "Z9oBgySsGx81"
      },
      "execution_count": null,
      "outputs": []
    }
  ]
}