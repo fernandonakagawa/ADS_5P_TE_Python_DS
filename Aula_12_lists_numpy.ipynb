{
  "nbformat": 4,
  "nbformat_minor": 0,
  "metadata": {
    "colab": {
      "name": "Aula_12_lists_numpy.ipynb",
      "provenance": [],
      "collapsed_sections": [],
      "mount_file_id": "1jBU-uWjUTlu9R7j5-5knvF57mLYpH9lk",
      "authorship_tag": "ABX9TyPt+SMWZ3o0RSjJrYsOP7aG",
      "include_colab_link": true
    },
    "kernelspec": {
      "name": "python3",
      "display_name": "Python 3"
    },
    "language_info": {
      "name": "python"
    }
  },
  "cells": [
    {
      "cell_type": "markdown",
      "metadata": {
        "id": "view-in-github",
        "colab_type": "text"
      },
      "source": [
        "<a href=\"https://colab.research.google.com/github/fernandonakagawa/ADS_5P_TE_Python_DS/blob/main/Aula_12_lists_numpy.ipynb\" target=\"_parent\"><img src=\"https://colab.research.google.com/assets/colab-badge.svg\" alt=\"Open In Colab\"/></a>"
      ]
    },
    {
      "cell_type": "markdown",
      "source": [
        "#Desafio Aula 11 - Lists"
      ],
      "metadata": {
        "id": "uZd6pX4o33TR"
      }
    },
    {
      "cell_type": "code",
      "execution_count": null,
      "metadata": {
        "id": "gVP-gAVW3wuZ"
      },
      "outputs": [],
      "source": [
        ""
      ]
    },
    {
      "cell_type": "code",
      "source": [
        ""
      ],
      "metadata": {
        "id": "-r7ELAPQ7f9j"
      },
      "execution_count": null,
      "outputs": []
    },
    {
      "cell_type": "code",
      "source": [
        ""
      ],
      "metadata": {
        "id": "3jEFX16x7gPJ"
      },
      "execution_count": null,
      "outputs": []
    }
  ]
}